{
 "cells": [
  {
   "cell_type": "markdown",
   "id": "6419a56d",
   "metadata": {
    "papermill": {
     "duration": 0.007027,
     "end_time": "2022-01-03T22:01:25.055452",
     "exception": false,
     "start_time": "2022-01-03T22:01:25.048425",
     "status": "completed"
    },
    "tags": []
   },
   "source": [
    "* [Import required packages](#section-one)\n",
    "* [Define model](#section-two)\n",
    "* [Extract features from image dataset](#section-three)"
   ]
  },
  {
   "cell_type": "markdown",
   "id": "41d57b43",
   "metadata": {
    "papermill": {
     "duration": 0.005594,
     "end_time": "2022-01-03T22:01:25.067321",
     "exception": false,
     "start_time": "2022-01-03T22:01:25.061727",
     "status": "completed"
    },
    "tags": []
   },
   "source": [
    "<a id=\"section-one\"></a>\n",
    "# Import required packages"
   ]
  },
  {
   "cell_type": "code",
   "execution_count": 1,
   "id": "031ffe2c",
   "metadata": {
    "_cell_guid": "b1076dfc-b9ad-4769-8c92-a6c4dae69d19",
    "_uuid": "8f2839f25d086af736a60e9eeb907d3b93b6e0e5",
    "execution": {
     "iopub.execute_input": "2022-01-03T22:01:25.083961Z",
     "iopub.status.busy": "2022-01-03T22:01:25.082405Z",
     "iopub.status.idle": "2022-01-03T22:01:31.014544Z",
     "shell.execute_reply": "2022-01-03T22:01:31.013451Z",
     "shell.execute_reply.started": "2022-01-03T22:00:34.933009Z"
    },
    "papermill": {
     "duration": 5.941757,
     "end_time": "2022-01-03T22:01:31.014721",
     "exception": false,
     "start_time": "2022-01-03T22:01:25.072964",
     "status": "completed"
    },
    "tags": []
   },
   "outputs": [],
   "source": [
    "import pickle as pk\n",
    "import os\n",
    "import keras as keras\n",
    "import keras.applications.vgg16 as vgg\n",
    "import keras.preprocessing.image as img\n",
    "import string\n",
    "import torch\n",
    "import tensorflow as tf\n",
    "from tqdm import tqdm"
   ]
  },
  {
   "cell_type": "markdown",
   "id": "5fe5192c",
   "metadata": {
    "papermill": {
     "duration": 0.00576,
     "end_time": "2022-01-03T22:01:31.026470",
     "exception": false,
     "start_time": "2022-01-03T22:01:31.020710",
     "status": "completed"
    },
    "tags": []
   },
   "source": [
    "<a id=\"section-two\"></a>\n",
    "# Define a model"
   ]
  },
  {
   "cell_type": "code",
   "execution_count": 2,
   "id": "d58321dc",
   "metadata": {
    "execution": {
     "iopub.execute_input": "2022-01-03T22:01:31.090389Z",
     "iopub.status.busy": "2022-01-03T22:01:31.089577Z",
     "iopub.status.idle": "2022-01-03T22:01:46.950361Z",
     "shell.execute_reply": "2022-01-03T22:01:46.950899Z",
     "shell.execute_reply.started": "2022-01-03T22:00:39.261009Z"
    },
    "papermill": {
     "duration": 15.918792,
     "end_time": "2022-01-03T22:01:46.951062",
     "exception": false,
     "start_time": "2022-01-03T22:01:31.032270",
     "status": "completed"
    },
    "tags": []
   },
   "outputs": [
    {
     "name": "stderr",
     "output_type": "stream",
     "text": [
      "2022-01-03 22:01:31.138434: I tensorflow/stream_executor/cuda/cuda_gpu_executor.cc:937] successful NUMA node read from SysFS had negative value (-1), but there must be at least one NUMA node, so returning NUMA node zero\n",
      "2022-01-03 22:01:31.139456: I tensorflow/stream_executor/cuda/cuda_gpu_executor.cc:937] successful NUMA node read from SysFS had negative value (-1), but there must be at least one NUMA node, so returning NUMA node zero\n",
      "2022-01-03 22:01:31.140098: I tensorflow/stream_executor/cuda/cuda_gpu_executor.cc:937] successful NUMA node read from SysFS had negative value (-1), but there must be at least one NUMA node, so returning NUMA node zero\n",
      "2022-01-03 22:01:31.140827: I tensorflow/core/platform/cpu_feature_guard.cc:142] This TensorFlow binary is optimized with oneAPI Deep Neural Network Library (oneDNN) to use the following CPU instructions in performance-critical operations:  AVX2 AVX512F FMA\n",
      "To enable them in other operations, rebuild TensorFlow with the appropriate compiler flags.\n",
      "2022-01-03 22:01:31.141682: I tensorflow/stream_executor/cuda/cuda_gpu_executor.cc:937] successful NUMA node read from SysFS had negative value (-1), but there must be at least one NUMA node, so returning NUMA node zero\n",
      "2022-01-03 22:01:31.142349: I tensorflow/stream_executor/cuda/cuda_gpu_executor.cc:937] successful NUMA node read from SysFS had negative value (-1), but there must be at least one NUMA node, so returning NUMA node zero\n",
      "2022-01-03 22:01:31.142943: I tensorflow/stream_executor/cuda/cuda_gpu_executor.cc:937] successful NUMA node read from SysFS had negative value (-1), but there must be at least one NUMA node, so returning NUMA node zero\n",
      "2022-01-03 22:01:35.424486: I tensorflow/stream_executor/cuda/cuda_gpu_executor.cc:937] successful NUMA node read from SysFS had negative value (-1), but there must be at least one NUMA node, so returning NUMA node zero\n",
      "2022-01-03 22:01:35.425290: I tensorflow/stream_executor/cuda/cuda_gpu_executor.cc:937] successful NUMA node read from SysFS had negative value (-1), but there must be at least one NUMA node, so returning NUMA node zero\n",
      "2022-01-03 22:01:35.425929: I tensorflow/stream_executor/cuda/cuda_gpu_executor.cc:937] successful NUMA node read from SysFS had negative value (-1), but there must be at least one NUMA node, so returning NUMA node zero\n",
      "2022-01-03 22:01:35.426495: I tensorflow/core/common_runtime/gpu/gpu_device.cc:1510] Created device /job:localhost/replica:0/task:0/device:GPU:0 with 14959 MB memory:  -> device: 0, name: Tesla P100-PCIE-16GB, pci bus id: 0000:00:04.0, compute capability: 6.0\n"
     ]
    },
    {
     "name": "stdout",
     "output_type": "stream",
     "text": [
      "Downloading data from https://storage.googleapis.com/tensorflow/keras-applications/vgg16/vgg16_weights_tf_dim_ordering_tf_kernels.h5\n",
      "553467904/553467096 [==============================] - 10s 0us/step\n",
      "553476096/553467096 [==============================] - 10s 0us/step\n",
      "Model: \"model\"\n",
      "_________________________________________________________________\n",
      "Layer (type)                 Output Shape              Param #   \n",
      "=================================================================\n",
      "input_1 (InputLayer)         [(None, 224, 224, 3)]     0         \n",
      "_________________________________________________________________\n",
      "block1_conv1 (Conv2D)        (None, 224, 224, 64)      1792      \n",
      "_________________________________________________________________\n",
      "block1_conv2 (Conv2D)        (None, 224, 224, 64)      36928     \n",
      "_________________________________________________________________\n",
      "block1_pool (MaxPooling2D)   (None, 112, 112, 64)      0         \n",
      "_________________________________________________________________\n",
      "block2_conv1 (Conv2D)        (None, 112, 112, 128)     73856     \n",
      "_________________________________________________________________\n",
      "block2_conv2 (Conv2D)        (None, 112, 112, 128)     147584    \n",
      "_________________________________________________________________\n",
      "block2_pool (MaxPooling2D)   (None, 56, 56, 128)       0         \n",
      "_________________________________________________________________\n",
      "block3_conv1 (Conv2D)        (None, 56, 56, 256)       295168    \n",
      "_________________________________________________________________\n",
      "block3_conv2 (Conv2D)        (None, 56, 56, 256)       590080    \n",
      "_________________________________________________________________\n",
      "block3_conv3 (Conv2D)        (None, 56, 56, 256)       590080    \n",
      "_________________________________________________________________\n",
      "block3_pool (MaxPooling2D)   (None, 28, 28, 256)       0         \n",
      "_________________________________________________________________\n",
      "block4_conv1 (Conv2D)        (None, 28, 28, 512)       1180160   \n",
      "_________________________________________________________________\n",
      "block4_conv2 (Conv2D)        (None, 28, 28, 512)       2359808   \n",
      "_________________________________________________________________\n",
      "block4_conv3 (Conv2D)        (None, 28, 28, 512)       2359808   \n",
      "_________________________________________________________________\n",
      "block4_pool (MaxPooling2D)   (None, 14, 14, 512)       0         \n",
      "_________________________________________________________________\n",
      "block5_conv1 (Conv2D)        (None, 14, 14, 512)       2359808   \n",
      "_________________________________________________________________\n",
      "block5_conv2 (Conv2D)        (None, 14, 14, 512)       2359808   \n",
      "_________________________________________________________________\n",
      "block5_conv3 (Conv2D)        (None, 14, 14, 512)       2359808   \n",
      "_________________________________________________________________\n",
      "block5_pool (MaxPooling2D)   (None, 7, 7, 512)         0         \n",
      "_________________________________________________________________\n",
      "flatten (Flatten)            (None, 25088)             0         \n",
      "_________________________________________________________________\n",
      "fc1 (Dense)                  (None, 4096)              102764544 \n",
      "_________________________________________________________________\n",
      "fc2 (Dense)                  (None, 4096)              16781312  \n",
      "=================================================================\n",
      "Total params: 134,260,544\n",
      "Trainable params: 134,260,544\n",
      "Non-trainable params: 0\n",
      "_________________________________________________________________\n",
      "None\n"
     ]
    }
   ],
   "source": [
    "device = torch.device('cuda' if torch.cuda.is_available() else 'cpu')\n",
    "vgg16_model = vgg.VGG16()\n",
    "model = keras.Model(inputs = vgg16_model.inputs, outputs = vgg16_model.layers[-2].output)\n",
    "print(model.summary())"
   ]
  },
  {
   "cell_type": "markdown",
   "id": "7997152e",
   "metadata": {
    "papermill": {
     "duration": 0.023806,
     "end_time": "2022-01-03T22:01:46.999540",
     "exception": false,
     "start_time": "2022-01-03T22:01:46.975734",
     "status": "completed"
    },
    "tags": []
   },
   "source": [
    "<a id=\"section-three\"></a>\n",
    "# Extract features from the image dataset"
   ]
  },
  {
   "cell_type": "code",
   "execution_count": 3,
   "id": "e128af8d",
   "metadata": {
    "execution": {
     "iopub.execute_input": "2022-01-03T22:01:47.053051Z",
     "iopub.status.busy": "2022-01-03T22:01:47.052531Z",
     "iopub.status.idle": "2022-01-03T22:09:40.883015Z",
     "shell.execute_reply": "2022-01-03T22:09:40.884030Z",
     "shell.execute_reply.started": "2022-01-03T22:00:39.263760Z"
    },
    "papermill": {
     "duration": 473.860591,
     "end_time": "2022-01-03T22:09:40.884254",
     "exception": false,
     "start_time": "2022-01-03T22:01:47.023663",
     "status": "completed"
    },
    "tags": []
   },
   "outputs": [
    {
     "name": "stderr",
     "output_type": "stream",
     "text": [
      "  0%|          | 0/8091 [00:00<?, ?it/s]2022-01-03 22:01:47.315414: I tensorflow/compiler/mlir/mlir_graph_optimization_pass.cc:185] None of the MLIR Optimization Passes are enabled (registered 2)\n",
      "2022-01-03 22:01:48.218118: I tensorflow/stream_executor/cuda/cuda_dnn.cc:369] Loaded cuDNN version 8005\n",
      "100%|██████████| 8091/8091 [07:53<00:00, 17.08it/s]\n"
     ]
    }
   ],
   "source": [
    "image_to_features = {}\n",
    "dataset_path = '../input/flickr8kdataset/Flickr8k_Dataset/Flicker8k_Dataset'\n",
    "for file_name in tqdm(os.listdir(dataset_path)):\n",
    "    filename = os.path.join(dataset_path, file_name)\n",
    "    image = img.load_img(filename, target_size=(224, 224))\n",
    "    image = img.img_to_array(image)\n",
    "    image = image.reshape((1, image.shape[0], image.shape[1], image.shape[2]))\n",
    "    image = vgg.preprocess_input(image)\n",
    "    feature = model.predict(image, verbose=0)\n",
    "    image_to_features[file_name.split('.')[0]] = feature"
   ]
  },
  {
   "cell_type": "code",
   "execution_count": 4,
   "id": "289e0848",
   "metadata": {
    "execution": {
     "iopub.execute_input": "2022-01-03T22:09:43.103590Z",
     "iopub.status.busy": "2022-01-03T22:09:43.102961Z",
     "iopub.status.idle": "2022-01-03T22:09:43.106074Z",
     "shell.execute_reply": "2022-01-03T22:09:43.106495Z",
     "shell.execute_reply.started": "2022-01-03T22:00:39.266277Z"
    },
    "papermill": {
     "duration": 1.231409,
     "end_time": "2022-01-03T22:09:43.106631",
     "exception": false,
     "start_time": "2022-01-03T22:09:41.875222",
     "status": "completed"
    },
    "tags": []
   },
   "outputs": [
    {
     "data": {
      "text/plain": [
       "8091"
      ]
     },
     "execution_count": 4,
     "metadata": {},
     "output_type": "execute_result"
    }
   ],
   "source": [
    "len(image_to_features)"
   ]
  },
  {
   "cell_type": "code",
   "execution_count": 5,
   "id": "883918dc",
   "metadata": {
    "execution": {
     "iopub.execute_input": "2022-01-03T22:09:45.093637Z",
     "iopub.status.busy": "2022-01-03T22:09:45.088492Z",
     "iopub.status.idle": "2022-01-03T22:09:45.401249Z",
     "shell.execute_reply": "2022-01-03T22:09:45.400732Z",
     "shell.execute_reply.started": "2022-01-03T22:00:39.268810Z"
    },
    "papermill": {
     "duration": 1.30983,
     "end_time": "2022-01-03T22:09:45.401387",
     "exception": false,
     "start_time": "2022-01-03T22:09:44.091557",
     "status": "completed"
    },
    "tags": []
   },
   "outputs": [],
   "source": [
    "pk.dump(image_to_features, open('features.pkl', 'wb'))"
   ]
  }
 ],
 "metadata": {
  "kernelspec": {
   "display_name": "Python 3",
   "language": "python",
   "name": "python3"
  },
  "language_info": {
   "codemirror_mode": {
    "name": "ipython",
    "version": 3
   },
   "file_extension": ".py",
   "mimetype": "text/x-python",
   "name": "python",
   "nbconvert_exporter": "python",
   "pygments_lexer": "ipython3",
   "version": "3.7.12"
  },
  "papermill": {
   "default_parameters": {},
   "duration": 512.67431,
   "end_time": "2022-01-03T22:09:49.588617",
   "environment_variables": {},
   "exception": null,
   "input_path": "__notebook__.ipynb",
   "output_path": "__notebook__.ipynb",
   "parameters": {},
   "start_time": "2022-01-03T22:01:16.914307",
   "version": "2.3.3"
  }
 },
 "nbformat": 4,
 "nbformat_minor": 5
}
